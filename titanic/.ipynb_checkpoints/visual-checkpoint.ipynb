{
 "metadata": {
  "name": "",
  "signature": "sha256:f40a738f1fd87a09953679a691ebcda527b5f42160660ddc6329fe3f7f3d978a"
 },
 "nbformat": 3,
 "nbformat_minor": 0,
 "worksheets": []
}